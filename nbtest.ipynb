{
 "cells": [
  {
   "cell_type": "code",
   "execution_count": 8,
   "metadata": {},
   "outputs": [
    {
     "name": "stdout",
     "output_type": "stream",
     "text": [
      "Warning: When  cdn_resources is 'local' jupyter notebook has issues displaying graphics on chrome/safari. Use cdn_resources='in_line' or cdn_resources='remote' if you have issues viewing graphics in a notebook.\n",
      "nx.html\n"
     ]
    },
    {
     "data": {
      "text/html": [
       "\n",
       "        <iframe\n",
       "            width=\"500px\"\n",
       "            height=\"500px\"\n",
       "            src=\"nx.html\"\n",
       "            frameborder=\"0\"\n",
       "            allowfullscreen\n",
       "            \n",
       "        ></iframe>\n",
       "        "
      ],
      "text/plain": [
       "<IPython.lib.display.IFrame at 0x107c91290>"
      ]
     },
     "execution_count": 8,
     "metadata": {},
     "output_type": "execute_result"
    }
   ],
   "source": [
    "from pyvis.network import Network\n",
    "\n",
    "from pyvis.network import Netwo\n",
    "import networkx as nx\n",
    "nx_graph = nx.cycle_graph(10)\n",
    "nx_graph.nodes[1]['title'] = 'Number 1'\n",
    "nx_graph.nodes[1]['group'] = 1\n",
    "nx_graph.nodes[3]['title'] = 'I belong to a different group!'\n",
    "nx_graph.nodes[3]['group'] = 10\n",
    "nx_graph.add_node(20, size=20, title='couple', group=2)\n",
    "nx_graph.add_node(21, size=15, title='couple', group=2)\n",
    "nx_graph.add_edge(20, 21, weight=5)\n",
    "nx_graph.add_node(25, size=25, label='lonely', title='lonely node', group=3)\n",
    "nt = Network('500px', '500px', notebook=False)\n",
    "# populates the nodes and edges data structures\n",
    "nt.from_nx(nx_graph)\n",
    "nt.show('nx.html')"
   ]
  },
  {
   "cell_type": "code",
   "execution_count": null,
   "metadata": {},
   "outputs": [],
   "source": []
  }
 ],
 "metadata": {
  "kernelspec": {
   "display_name": "Python 3",
   "language": "python",
   "name": "python3"
  },
  "language_info": {
   "codemirror_mode": {
    "name": "ipython",
    "version": 3
   },
   "file_extension": ".py",
   "mimetype": "text/x-python",
   "name": "python",
   "nbconvert_exporter": "python",
   "pygments_lexer": "ipython3",
   "version": "3.11.undefined"
  }
 },
 "nbformat": 4,
 "nbformat_minor": 2
}
