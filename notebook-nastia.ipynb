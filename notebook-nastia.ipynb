{
 "cells": [
  {
   "cell_type": "code",
   "execution_count": null,
   "metadata": {},
   "outputs": [],
   "source": [
    "import ast\n",
    "import networkx as nx\n",
    "import importlib\n",
    "import utils\n",
    "import style\n",
    "import graph\n",
    "import copy\n",
    "importlib.reload(utils)\n",
    "importlib.reload(style)\n",
    "importlib.reload(graph)\n",
    "from utils import ast_to_networkx, node_transform\n",
    "from networkx.drawing.nx_pydot import graphviz_layout\n",
    "import matplotlib.pyplot as plt\n",
    "import xml.etree.ElementTree as ET\n",
    "from graph import CodeGraph\n",
    "import xml.dom.minidom\n",
    "from IPython.display import Image\n",
    "from style import GeneralStyleParams\n",
    "import os\n"
   ]
  },
  {
   "cell_type": "code",
   "execution_count": null,
   "metadata": {},
   "outputs": [],
   "source": [
    "images_folder = 'images/'\n",
    "filename_test_exp = 'code_samples/test-expansion.py'\n",
    "filename_test_extr = 'code_samples/test-extraction.py'\n"
   ]
  },
  {
   "cell_type": "markdown",
   "metadata": {},
   "source": [
    "# How to load python code into ast"
   ]
  },
  {
   "cell_type": "code",
   "execution_count": null,
   "metadata": {},
   "outputs": [],
   "source": [
    "with open(filename_test_exp, 'r') as file:\n",
    "    code = file.read()\n",
    "\n",
    "tree = ast.parse(code)\n",
    "\n",
    "# Print the AST\n",
    "print(ast.dump(tree))"
   ]
  },
  {
   "cell_type": "code",
   "execution_count": null,
   "metadata": {},
   "outputs": [],
   "source": []
  },
  {
   "cell_type": "markdown",
   "metadata": {},
   "source": [
    "visualizing AST using `networkx` library "
   ]
  },
  {
   "cell_type": "code",
   "execution_count": null,
   "metadata": {},
   "outputs": [],
   "source": [
    "def visualize_ast(filename):\n",
    "    with open(filename, 'r') as file:\n",
    "        code = file.read()\n",
    "\n",
    "    tree = ast.parse(code)\n",
    "    G = ast_to_networkx(tree)\n",
    "\n",
    "    node_labels = ({node: node_transform(G, node) for node in G.nodes()})\n",
    "    pos = graphviz_layout(G, prog=\"dot\")\n",
    "    pos = {k: (x, 10*y) for k, (x, y) in pos.items()}\n",
    "    node_size = [(len(node_transform(G, n))+20)*6 for n in G.nodes()]\n",
    "    nx.draw(G, pos=pos, with_labels=True, node_size=node_size, labels=node_labels, node_shape=\"s\", arrows = True, node_color=\"none\", bbox=dict(facecolor=\"skyblue\", edgecolor='black', boxstyle='round,pad=0.2'), font_size=6)\n",
    "\n",
    "    plt.show()\n",
    "G = ast_to_networkx(tree)\n",
    "visualize_ast(filename_test_exp)"
   ]
  },
  {
   "cell_type": "markdown",
   "metadata": {},
   "source": [
    "# Better visualization for AST"
   ]
  },
  {
   "cell_type": "code",
   "execution_count": null,
   "metadata": {},
   "outputs": [],
   "source": [
    "def vis_drawio(g: CodeGraph, output_file_name: str = 'images/temp2', params: GeneralStyleParams = GeneralStyleParams()) -> Image:\n",
    "    \"\"\"\n",
    "    to use this function you need to install drawio and cleate an alias for its command line interface.\n",
    "    for mac:\n",
    "        drawio=\"/Applications/draw.io.app/Contents/MacOS/draw.io\"\n",
    "    \"\"\"\n",
    "    mxfile = OurGraphToXML(params).graph_to_xml(g)\n",
    "    xml_str = xml.dom.minidom.parseString(ET.tostring(mxfile)).toprettyxml()\n",
    "    \n",
    "    output_file = f'{output_file_name}.png'\n",
    "    filename    = f'{output_file_name}.drawio'\n",
    "\n",
    "    with open(filename, 'w') as file:\n",
    "        file.write(xml_str) \n",
    "\n",
    "    bashCommand = f\"/Applications/draw.io.app/Contents/MacOS/draw.io -x -f png --scale 2   -o {output_file} {filename}\"\n",
    "    os.system(bashCommand) \n",
    "\n",
    "    return Image(output_file)  "
   ]
  },
  {
   "cell_type": "markdown",
   "metadata": {},
   "source": [
    "# Expanding a function call"
   ]
  },
  {
   "cell_type": "code",
   "execution_count": null,
   "metadata": {},
   "outputs": [],
   "source": [
    "import transforms\n",
    "importlib.reload(transforms)\n",
    "importlib.reload(style)\n",
    "importlib.reload(graph)\n",
    "from graph import CodeGraph\n",
    "from style import OurGraphToXML\n",
    "from transforms import expand_function\n",
    "\n",
    "G = CodeGraph.from_file(filename_test_exp)\n",
    "\n",
    "G_new = G.copy()\n",
    "\n",
    "for node_id, node in G_new.ast_nodes.items():\n",
    "    if isinstance(node, ast.Call):\n",
    "        break\n",
    "\n",
    "G_new = expand_function(G_new, node_id)\n",
    "print(G.to_source())\n",
    "print('_____________')\n",
    "print(G_new.to_source())\n",
    "\n",
    "params = GeneralStyleParams(y_scaling=1.3)\n",
    "vis_drawio(G_new, 'images/test-expansion-after', params)\n"
   ]
  },
  {
   "cell_type": "markdown",
   "metadata": {},
   "source": [
    "# Extracting a function"
   ]
  },
  {
   "cell_type": "code",
   "execution_count": null,
   "metadata": {},
   "outputs": [],
   "source": [
    "import transforms\n",
    "importlib.reload(transforms)\n",
    "from transforms import extract_function\n",
    "\n",
    "G = CodeGraph.from_file(filename_test_extr)\n",
    "print(G.to_source())\n",
    "vis_drawio(G, 'images/test-extraction-before', params)"
   ]
  },
  {
   "cell_type": "code",
   "execution_count": null,
   "metadata": {},
   "outputs": [],
   "source": [
    "importlib.reload(transforms)\n",
    "from transforms import extract_function\n",
    "G2 = copy.deepcopy(G)\n",
    "G2.refresh()\n",
    "\n",
    "node_id = id(G2.ast_tree.body[0])\n",
    "G2.ast_nodes[node_id]\n",
    "G2 = extract_function(G2, node_id, 1, 2)\n",
    "print(G2.to_source())\n",
    "vis_drawio(G2, 'images/test-extraction-after', params)"
   ]
  },
  {
   "cell_type": "code",
   "execution_count": null,
   "metadata": {},
   "outputs": [],
   "source": [
    "importlib.reload(graph)\n",
    "from graph import CodeGraph\n",
    "\n",
    "GN = CodeGraph.from_file(filename_test_exp)"
   ]
  },
  {
   "cell_type": "code",
   "execution_count": null,
   "metadata": {},
   "outputs": [],
   "source": [
    "output_file_name = 'images/tokens'\n",
    "mxfile = OurGraphToXML(params).graph_to_xml(GN)\n",
    "xml_str = xml.dom.minidom.parseString(ET.tostring(mxfile)).toprettyxml()\n",
    "\n",
    "output_file = f'{output_file_name}.png'\n",
    "filename    = f'{output_file_name}.drawio'\n",
    "\n",
    "with open(filename, 'w') as file:\n",
    "    file.write(xml_str) \n",
    "\n",
    "bashCommand = f\"/Applications/draw.io.app/Contents/MacOS/draw.io -x -f png --scale 2   -o {output_file} {filename}\"\n",
    "os.system(bashCommand) \n",
    "Image(output_file) "
   ]
  },
  {
   "cell_type": "code",
   "execution_count": null,
   "metadata": {},
   "outputs": [],
   "source": [
    "import metrics\n",
    "importlib.reload(metrics)\n",
    "from metrics import calculate_metrics\n",
    "\n",
    "metrics_before = calculate_metrics(G.to_source())\n",
    "metrics_after = calculate_metrics(G2.to_source())\n",
    "\n",
    "print(\"Metrics Before:\")\n",
    "print(metrics_before)\n",
    "print('_____________')\n",
    "print(\"Metrics After:\")\n",
    "print(metrics_after)"
   ]
  },
  {
   "cell_type": "code",
   "execution_count": null,
   "metadata": {},
   "outputs": [],
   "source": [
    "isinstance(GN, OurGraphWithNewNodes)"
   ]
  },
  {
   "cell_type": "code",
   "execution_count": null,
   "metadata": {},
   "outputs": [],
   "source": [
    "type(GN) is OurGraphWithNewNodes"
   ]
  },
  {
   "cell_type": "code",
   "execution_count": null,
   "metadata": {},
   "outputs": [],
   "source": []
  }
 ],
 "metadata": {
  "kernelspec": {
   "display_name": "Python 3",
   "language": "python",
   "name": "python3"
  },
  "language_info": {
   "codemirror_mode": {
    "name": "ipython",
    "version": 3
   },
   "file_extension": ".py",
   "mimetype": "text/x-python",
   "name": "python",
   "nbconvert_exporter": "python",
   "pygments_lexer": "ipython3",
   "version": "3.11.6"
  }
 },
 "nbformat": 4,
 "nbformat_minor": 2
}
